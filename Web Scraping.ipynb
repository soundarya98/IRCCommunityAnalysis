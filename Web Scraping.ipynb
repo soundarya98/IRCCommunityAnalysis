{
 "cells": [
  {
   "cell_type": "code",
   "execution_count": 1,
   "metadata": {},
   "outputs": [],
   "source": [
    "# https://irclogs.ubuntu.com/2018/"
   ]
  },
  {
   "cell_type": "code",
   "execution_count": 1,
   "metadata": {},
   "outputs": [],
   "source": [
    "import requests\n",
    "import urllib\n",
    "import time\n",
    "import bs4\n",
    "from bs4 import BeautifulSoup"
   ]
  },
  {
   "cell_type": "code",
   "execution_count": 9,
   "metadata": {},
   "outputs": [
    {
     "data": {
      "text/plain": [
       "<Response [200]>"
      ]
     },
     "execution_count": 9,
     "metadata": {},
     "output_type": "execute_result"
    }
   ],
   "source": [
    "url='https://irclogs.ubuntu.com/2018/01/01/'\n",
    "response=requests.get(url)\n",
    "response"
   ]
  },
  {
   "cell_type": "code",
   "execution_count": 4,
   "metadata": {},
   "outputs": [],
   "source": [
    "soup=BeautifulSoup(response.text, \"html.parser\")"
   ]
  },
  {
   "cell_type": "code",
   "execution_count": 5,
   "metadata": {},
   "outputs": [
    {
     "name": "stdout",
     "output_type": "stream",
     "text": [
      "<a href=\"%23ayatana.txt\">#ayatana.txt</a>\n",
      "<a href=\"%23bzr.txt\">#bzr.txt</a>\n",
      "<a href=\"%23cloud-init.txt\">#cloud-init.txt</a>\n",
      "<a href=\"%23edubuntu.txt\">#edubuntu.txt</a>\n",
      "<a href=\"%23juju-dev.txt\">#juju-dev.txt</a>\n",
      "<a href=\"%23juju-gui.txt\">#juju-gui.txt</a>\n",
      "<a href=\"%23juju.txt\">#juju.txt</a>\n",
      "<a href=\"%23kubuntu-council.txt\">#kubuntu-council.txt</a>\n",
      "<a href=\"%23kubuntu-devel.txt\">#kubuntu-devel.txt</a>\n",
      "<a href=\"%23kubuntu.txt\">#kubuntu.txt</a>\n",
      "<a href=\"%23launchpad-dev.txt\">#launchpad-dev.txt</a>\n",
      "<a href=\"%23launchpad-meeting.txt\">#launchpad-meeting.txt</a>\n",
      "<a href=\"%23launchpad-reviews.txt\">#launchpad-reviews.txt</a>\n",
      "<a href=\"%23launchpad-yellow.txt\">#launchpad-yellow.txt</a>\n",
      "<a href=\"%23launchpad.txt\">#launchpad.txt</a>\n",
      "<a href=\"%23lubuntu-devel.txt\">#lubuntu-devel.txt</a>\n",
      "<a href=\"%23lubuntu.txt\">#lubuntu.txt</a>\n",
      "<a href=\"%23maas.txt\">#maas.txt</a>\n",
      "<a href=\"%23snappy.txt\">#snappy.txt</a>\n",
      "<a href=\"%23ubports.txt\">#ubports.txt</a>\n",
      "<a href=\"%23ubuntu+1.txt\">#ubuntu+1.txt</a>\n",
      "<a href=\"%23ubuntu-accessibility.txt\">#ubuntu-accessibility.txt</a>\n",
      "<a href=\"%23ubuntu-africa.txt\">#ubuntu-africa.txt</a>\n",
      "<a href=\"%23ubuntu-app-devel.txt\">#ubuntu-app-devel.txt</a>\n",
      "<a href=\"%23ubuntu-ar.txt\">#ubuntu-ar.txt</a>\n",
      "<a href=\"%23ubuntu-arm.txt\">#ubuntu-arm.txt</a>\n",
      "<a href=\"%23ubuntu-artwork.txt\">#ubuntu-artwork.txt</a>\n",
      "<a href=\"%23ubuntu-au.txt\">#ubuntu-au.txt</a>\n",
      "<a href=\"%23ubuntu-autopilot.txt\">#ubuntu-autopilot.txt</a>\n",
      "<a href=\"%23ubuntu-bd.txt\">#ubuntu-bd.txt</a>\n",
      "<a href=\"%23ubuntu-br.txt\">#ubuntu-br.txt</a>\n",
      "<a href=\"%23ubuntu-budgie.txt\">#ubuntu-budgie.txt</a>\n",
      "<a href=\"%23ubuntu-bugs.txt\">#ubuntu-bugs.txt</a>\n",
      "<a href=\"%23ubuntu-ca.txt\">#ubuntu-ca.txt</a>\n",
      "<a href=\"%23ubuntu-cat.txt\">#ubuntu-cat.txt</a>\n",
      "<a href=\"%23ubuntu-ch.txt\">#ubuntu-ch.txt</a>\n",
      "<a href=\"%23ubuntu-ci-eng.txt\">#ubuntu-ci-eng.txt</a>\n",
      "<a href=\"%23ubuntu-cl.txt\">#ubuntu-cl.txt</a>\n",
      "<a href=\"%23ubuntu-cm.txt\">#ubuntu-cm.txt</a>\n",
      "<a href=\"%23ubuntu-cn.txt\">#ubuntu-cn.txt</a>\n",
      "<a href=\"%23ubuntu-co-meeting.txt\">#ubuntu-co-meeting.txt</a>\n",
      "<a href=\"%23ubuntu-co.txt\">#ubuntu-co.txt</a>\n",
      "<a href=\"%23ubuntu-community-team.txt\">#ubuntu-community-team.txt</a>\n",
      "<a href=\"%23ubuntu-cy.txt\">#ubuntu-cy.txt</a>\n",
      "<a href=\"%23ubuntu-cz.txt\">#ubuntu-cz.txt</a>\n",
      "<a href=\"%23ubuntu-de-l10n.txt\">#ubuntu-de-l10n.txt</a>\n",
      "<a href=\"%23ubuntu-de.txt\">#ubuntu-de.txt</a>\n",
      "<a href=\"%23ubuntu-design.txt\">#ubuntu-design.txt</a>\n",
      "<a href=\"%23ubuntu-desktop.txt\">#ubuntu-desktop.txt</a>\n",
      "<a href=\"%23ubuntu-devel.txt\">#ubuntu-devel.txt</a>\n",
      "<a href=\"%23ubuntu-discuss.txt\">#ubuntu-discuss.txt</a>\n",
      "<a href=\"%23ubuntu-dk.txt\">#ubuntu-dk.txt</a>\n",
      "<a href=\"%23ubuntu-doc.txt\">#ubuntu-doc.txt</a>\n",
      "<a href=\"%23ubuntu-dz.txt\">#ubuntu-dz.txt</a>\n",
      "<a href=\"%23ubuntu-eg.txt\">#ubuntu-eg.txt</a>\n",
      "<a href=\"%23ubuntu-es.txt\">#ubuntu-es.txt</a>\n",
      "<a href=\"%23ubuntu-fi.txt\">#ubuntu-fi.txt</a>\n",
      "<a href=\"%23ubuntu-for-all.txt\">#ubuntu-for-all.txt</a>\n",
      "<a href=\"%23ubuntu-gnome.txt\">#ubuntu-gnome.txt</a>\n",
      "<a href=\"%23ubuntu-google.txt\">#ubuntu-google.txt</a>\n",
      "<a href=\"%23ubuntu-gr.txt\">#ubuntu-gr.txt</a>\n",
      "<a href=\"%23ubuntu-hr.txt\">#ubuntu-hr.txt</a>\n",
      "<a href=\"%23ubuntu-ie.txt\">#ubuntu-ie.txt</a>\n",
      "<a href=\"%23ubuntu-in.txt\">#ubuntu-in.txt</a>\n",
      "<a href=\"%23ubuntu-installer.txt\">#ubuntu-installer.txt</a>\n",
      "<a href=\"%23ubuntu-ir.txt\">#ubuntu-ir.txt</a>\n",
      "<a href=\"%23ubuntu-irc.txt\">#ubuntu-irc.txt</a>\n",
      "<a href=\"%23ubuntu-it-meeting.txt\">#ubuntu-it-meeting.txt</a>\n",
      "<a href=\"%23ubuntu-it.txt\">#ubuntu-it.txt</a>\n",
      "<a href=\"%23ubuntu-java.txt\">#ubuntu-java.txt</a>\n",
      "<a href=\"%23ubuntu-jp.txt\">#ubuntu-jp.txt</a>\n",
      "<a href=\"%23ubuntu-kernel.txt\">#ubuntu-kernel.txt</a>\n",
      "<a href=\"%23ubuntu-ko.txt\">#ubuntu-ko.txt</a>\n",
      "<a href=\"%23ubuntu-locoteams.txt\">#ubuntu-locoteams.txt</a>\n",
      "<a href=\"%23ubuntu-lt.txt\">#ubuntu-lt.txt</a>\n",
      "<a href=\"%23ubuntu-manual.txt\">#ubuntu-manual.txt</a>\n",
      "<a href=\"%23ubuntu-mate.txt\">#ubuntu-mate.txt</a>\n",
      "<a href=\"%23ubuntu-meeting-2.txt\">#ubuntu-meeting-2.txt</a>\n",
      "<a href=\"%23ubuntu-meeting.txt\">#ubuntu-meeting.txt</a>\n",
      "<a href=\"%23ubuntu-mk.txt\">#ubuntu-mk.txt</a>\n",
      "<a href=\"%23ubuntu-motu.txt\">#ubuntu-motu.txt</a>\n",
      "<a href=\"%23ubuntu-mozillateam.txt\">#ubuntu-mozillateam.txt</a>\n",
      "<a href=\"%23ubuntu-my.txt\">#ubuntu-my.txt</a>\n",
      "<a href=\"%23ubuntu-news.txt\">#ubuntu-news.txt</a>\n",
      "<a href=\"%23ubuntu-ngo.txt\">#ubuntu-ngo.txt</a>\n",
      "<a href=\"%23ubuntu-nl-mwanzo.txt\">#ubuntu-nl-mwanzo.txt</a>\n",
      "<a href=\"%23ubuntu-nl.txt\">#ubuntu-nl.txt</a>\n",
      "<a href=\"%23ubuntu-no.txt\">#ubuntu-no.txt</a>\n",
      "<a href=\"%23ubuntu-nz.txt\">#ubuntu-nz.txt</a>\n",
      "<a href=\"%23ubuntu-on-air.txt\">#ubuntu-on-air.txt</a>\n",
      "<a href=\"%23ubuntu-ops.txt\">#ubuntu-ops.txt</a>\n",
      "<a href=\"%23ubuntu-pe.txt\">#ubuntu-pe.txt</a>\n",
      "<a href=\"%23ubuntu-ph.txt\">#ubuntu-ph.txt</a>\n",
      "<a href=\"%23ubuntu-pk.txt\">#ubuntu-pk.txt</a>\n",
      "<a href=\"%23ubuntu-pl.txt\">#ubuntu-pl.txt</a>\n",
      "<a href=\"%23ubuntu-pt.txt\">#ubuntu-pt.txt</a>\n",
      "<a href=\"%23ubuntu-qc.txt\">#ubuntu-qc.txt</a>\n",
      "<a href=\"%23ubuntu-quality.txt\">#ubuntu-quality.txt</a>\n",
      "<a href=\"%23ubuntu-release.txt\">#ubuntu-release.txt</a>\n",
      "<a href=\"%23ubuntu-ro.txt\">#ubuntu-ro.txt</a>\n",
      "<a href=\"%23ubuntu-rs.txt\">#ubuntu-rs.txt</a>\n",
      "<a href=\"%23ubuntu-ru.txt\">#ubuntu-ru.txt</a>\n",
      "<a href=\"%23ubuntu-s390x.txt\">#ubuntu-s390x.txt</a>\n",
      "<a href=\"%23ubuntu-se-mote.txt\">#ubuntu-se-mote.txt</a>\n",
      "<a href=\"%23ubuntu-se.txt\">#ubuntu-se.txt</a>\n",
      "<a href=\"%23ubuntu-server.txt\">#ubuntu-server.txt</a>\n",
      "<a href=\"%23ubuntu-si.txt\">#ubuntu-si.txt</a>\n",
      "<a href=\"%23ubuntu-tam.txt\">#ubuntu-tam.txt</a>\n",
      "<a href=\"%23ubuntu-tn-meeting.txt\">#ubuntu-tn-meeting.txt</a>\n",
      "<a href=\"%23ubuntu-tn.txt\">#ubuntu-tn.txt</a>\n",
      "<a href=\"%23ubuntu-toolchain.txt\">#ubuntu-toolchain.txt</a>\n",
      "<a href=\"%23ubuntu-tour.txt\">#ubuntu-tour.txt</a>\n",
      "<a href=\"%23ubuntu-tr.txt\">#ubuntu-tr.txt</a>\n",
      "<a href=\"%23ubuntu-translators.txt\">#ubuntu-translators.txt</a>\n",
      "<a href=\"%23ubuntu-tv.txt\">#ubuntu-tv.txt</a>\n",
      "<a href=\"%23ubuntu-tw.txt\">#ubuntu-tw.txt</a>\n",
      "<a href=\"%23ubuntu-uk.txt\">#ubuntu-uk.txt</a>\n",
      "<a href=\"%23ubuntu-unity.txt\">#ubuntu-unity.txt</a>\n",
      "<a href=\"%23ubuntu-uos-community.txt\">#ubuntu-uos-community.txt</a>\n",
      "<a href=\"%23ubuntu-uos-plenary.txt\">#ubuntu-uos-plenary.txt</a>\n",
      "<a href=\"%23ubuntu-us-ar.txt\">#ubuntu-us-ar.txt</a>\n",
      "<a href=\"%23ubuntu-us-ca.txt\">#ubuntu-us-ca.txt</a>\n",
      "<a href=\"%23ubuntu-us-co.txt\">#ubuntu-us-co.txt</a>\n",
      "<a href=\"%23ubuntu-us-dc.txt\">#ubuntu-us-dc.txt</a>\n",
      "<a href=\"%23ubuntu-us-de.txt\">#ubuntu-us-de.txt</a>\n",
      "<a href=\"%23ubuntu-us-fl.txt\">#ubuntu-us-fl.txt</a>\n",
      "<a href=\"%23ubuntu-us-md.txt\">#ubuntu-us-md.txt</a>\n",
      "<a href=\"%23ubuntu-us-mi.txt\">#ubuntu-us-mi.txt</a>\n",
      "<a href=\"%23ubuntu-us-nc.txt\">#ubuntu-us-nc.txt</a>\n",
      "<a href=\"%23ubuntu-us-oh.txt\">#ubuntu-us-oh.txt</a>\n",
      "<a href=\"%23ubuntu-us-or.txt\">#ubuntu-us-or.txt</a>\n",
      "<a href=\"%23ubuntu-us-pa.txt\">#ubuntu-us-pa.txt</a>\n",
      "<a href=\"%23ubuntu-us-sc.txt\">#ubuntu-us-sc.txt</a>\n",
      "<a href=\"%23ubuntu-us-tn.txt\">#ubuntu-us-tn.txt</a>\n",
      "<a href=\"%23ubuntu-us-tx.txt\">#ubuntu-us-tx.txt</a>\n",
      "<a href=\"%23ubuntu-uy.txt\">#ubuntu-uy.txt</a>\n",
      "<a href=\"%23ubuntu-vn.txt\">#ubuntu-vn.txt</a>\n",
      "<a href=\"%23ubuntu-website.txt\">#ubuntu-website.txt</a>\n",
      "<a href=\"%23ubuntu-women-project.txt\">#ubuntu-women-project.txt</a>\n",
      "<a href=\"%23ubuntu-x.txt\">#ubuntu-x.txt</a>\n",
      "<a href=\"%23ubuntu-youth.txt\">#ubuntu-youth.txt</a>\n",
      "<a href=\"%23ubuntu-za.txt\">#ubuntu-za.txt</a>\n",
      "<a href=\"%23ubuntu-zh.txt\">#ubuntu-zh.txt</a>\n",
      "<a href=\"%23ubuntu.txt\">#ubuntu.txt</a>\n",
      "<a href=\"%23ubuntukylin-devel.txt\">#ubuntukylin-devel.txt</a>\n",
      "<a href=\"%23ubuntuone.txt\">#ubuntuone.txt</a>\n",
      "<a href=\"%23ubuntustudio-devel.txt\">#ubuntustudio-devel.txt</a>\n",
      "<a href=\"%23ubuntustudio.txt\">#ubuntustudio.txt</a>\n",
      "<a href=\"%23upstart.txt\">#upstart.txt</a>\n",
      "<a href=\"%23xubuntu-devel.txt\">#xubuntu-devel.txt</a>\n",
      "<a href=\"%23xubuntu.txt\">#xubuntu.txt</a>\n"
     ]
    }
   ],
   "source": [
    "for link in soup.findAll('a'):\n",
    "    if('.txt' in link.text):\n",
    "        print(link)"
   ]
  },
  {
   "cell_type": "code",
   "execution_count": 6,
   "metadata": {},
   "outputs": [],
   "source": [
    "oat=soup.findAll('a')[14]\n",
    "link2=oat['href']"
   ]
  },
  {
   "cell_type": "code",
   "execution_count": 7,
   "metadata": {},
   "outputs": [
    {
     "data": {
      "text/plain": [
       "u'juju-dev.txt'"
      ]
     },
     "execution_count": 7,
     "metadata": {},
     "output_type": "execute_result"
    }
   ],
   "source": [
    "link2[3:]"
   ]
  },
  {
   "cell_type": "code",
   "execution_count": 8,
   "metadata": {},
   "outputs": [],
   "source": [
    "download_url=\"https://irclogs.ubuntu.com/2018/01/01/\"+link2"
   ]
  },
  {
   "cell_type": "code",
   "execution_count": 9,
   "metadata": {},
   "outputs": [
    {
     "ename": "AttributeError",
     "evalue": "'module' object has no attribute 'request'",
     "output_type": "error",
     "traceback": [
      "\u001b[0;31m---------------------------------------------------------------------------\u001b[0m",
      "\u001b[0;31mAttributeError\u001b[0m                            Traceback (most recent call last)",
      "\u001b[0;32m<ipython-input-9-efd523416193>\u001b[0m in \u001b[0;36m<module>\u001b[0;34m()\u001b[0m\n\u001b[1;32m      1\u001b[0m \u001b[0;31m# out=urllib.request.urlretrieve(download_url)\u001b[0m\u001b[0;34m\u001b[0m\u001b[0;34m\u001b[0m\u001b[0m\n\u001b[0;32m----> 2\u001b[0;31m \u001b[0murllib\u001b[0m\u001b[0;34m.\u001b[0m\u001b[0mrequest\u001b[0m\u001b[0;34m.\u001b[0m\u001b[0murlretrieve\u001b[0m\u001b[0;34m(\u001b[0m\u001b[0mdownload_url\u001b[0m\u001b[0;34m,\u001b[0m \u001b[0;34mr'C:\\Users\\SOUJANARI\\Downloads\\4-1\\SOP_4-1\\Scraped_Data\\juju-dev.txt'\u001b[0m\u001b[0;34m)\u001b[0m\u001b[0;34m\u001b[0m\u001b[0m\n\u001b[0m",
      "\u001b[0;31mAttributeError\u001b[0m: 'module' object has no attribute 'request'"
     ]
    }
   ],
   "source": [
    "# out=urllib.request.urlretrieve(download_url) \n",
    "urllib.request.urlretrieve(download_url, r'C:\\Users\\SOUJANARI\\Downloads\\4-1\\SOP_4-1\\Scraped_Data\\juju-dev.txt')"
   ]
  },
  {
   "cell_type": "code",
   "execution_count": 52,
   "metadata": {},
   "outputs": [
    {
     "data": {
      "text/plain": [
       "('C:\\\\Users\\\\SOUJAN~1\\\\AppData\\\\Local\\\\Temp\\\\tmpus4zinjs',\n",
       " <http.client.HTTPMessage at 0x1cdb288a390>)"
      ]
     },
     "execution_count": 52,
     "metadata": {},
     "output_type": "execute_result"
    }
   ],
   "source": [
    "out"
   ]
  },
  {
   "cell_type": "code",
   "execution_count": 53,
   "metadata": {},
   "outputs": [
    {
     "ename": "TypeError",
     "evalue": "rename: src should be string, bytes or os.PathLike, not tuple",
     "output_type": "error",
     "traceback": [
      "\u001b[1;31m---------------------------------------------------------------------------\u001b[0m",
      "\u001b[1;31mTypeError\u001b[0m                                 Traceback (most recent call last)",
      "\u001b[1;32m<ipython-input-53-e43eab21b682>\u001b[0m in \u001b[0;36m<module>\u001b[1;34m()\u001b[0m\n\u001b[0;32m      1\u001b[0m \u001b[1;32mimport\u001b[0m \u001b[0mos\u001b[0m\u001b[1;33m\u001b[0m\u001b[0m\n\u001b[1;32m----> 2\u001b[1;33m \u001b[0mos\u001b[0m\u001b[1;33m.\u001b[0m\u001b[0mrename\u001b[0m\u001b[1;33m(\u001b[0m\u001b[0mout\u001b[0m\u001b[1;33m,\u001b[0m \u001b[1;34m'C:\\\\Users\\\\SOUJAN~1\\\\download1.txt'\u001b[0m\u001b[1;33m)\u001b[0m\u001b[1;33m\u001b[0m\u001b[0m\n\u001b[0m",
      "\u001b[1;31mTypeError\u001b[0m: rename: src should be string, bytes or os.PathLike, not tuple"
     ]
    }
   ],
   "source": [
    "import os \n",
    "os.rename(out, 'C:\\\\Users\\\\SOUJAN~1\\\\download1.txt') "
   ]
  },
  {
   "cell_type": "code",
   "execution_count": 17,
   "metadata": {},
   "outputs": [],
   "source": [
    "#!!!!!!!!!!!!!! ACTUAL CODE STARTS HERE!!!!!!!!!!!!!!!!!!!!! \n",
    "\n",
    "url='https://irclogs.ubuntu.com/2018/01/01/'\n",
    "response=requests.get(url)\n",
    "soup=BeautifulSoup(response.text, \"html.parser\")\n",
    "links=[]\n",
    "for link in soup.findAll('a'):\n",
    "    if('.txt' in link.text):\n",
    "        links.append(link)"
   ]
  },
  {
   "cell_type": "code",
   "execution_count": 18,
   "metadata": {},
   "outputs": [
    {
     "data": {
      "text/plain": [
       "[<a href=\"%23ayatana.txt\">#ayatana.txt</a>,\n",
       " <a href=\"%23bzr.txt\">#bzr.txt</a>,\n",
       " <a href=\"%23cloud-init.txt\">#cloud-init.txt</a>,\n",
       " <a href=\"%23edubuntu.txt\">#edubuntu.txt</a>,\n",
       " <a href=\"%23juju-dev.txt\">#juju-dev.txt</a>,\n",
       " <a href=\"%23juju-gui.txt\">#juju-gui.txt</a>,\n",
       " <a href=\"%23juju.txt\">#juju.txt</a>,\n",
       " <a href=\"%23kubuntu-council.txt\">#kubuntu-council.txt</a>,\n",
       " <a href=\"%23kubuntu-devel.txt\">#kubuntu-devel.txt</a>,\n",
       " <a href=\"%23kubuntu.txt\">#kubuntu.txt</a>,\n",
       " <a href=\"%23launchpad-dev.txt\">#launchpad-dev.txt</a>,\n",
       " <a href=\"%23launchpad-meeting.txt\">#launchpad-meeting.txt</a>,\n",
       " <a href=\"%23launchpad-reviews.txt\">#launchpad-reviews.txt</a>,\n",
       " <a href=\"%23launchpad-yellow.txt\">#launchpad-yellow.txt</a>,\n",
       " <a href=\"%23launchpad.txt\">#launchpad.txt</a>,\n",
       " <a href=\"%23lubuntu-devel.txt\">#lubuntu-devel.txt</a>,\n",
       " <a href=\"%23lubuntu.txt\">#lubuntu.txt</a>,\n",
       " <a href=\"%23maas.txt\">#maas.txt</a>,\n",
       " <a href=\"%23snappy.txt\">#snappy.txt</a>,\n",
       " <a href=\"%23ubports.txt\">#ubports.txt</a>,\n",
       " <a href=\"%23ubuntu+1.txt\">#ubuntu+1.txt</a>,\n",
       " <a href=\"%23ubuntu-accessibility.txt\">#ubuntu-accessibility.txt</a>,\n",
       " <a href=\"%23ubuntu-africa.txt\">#ubuntu-africa.txt</a>,\n",
       " <a href=\"%23ubuntu-app-devel.txt\">#ubuntu-app-devel.txt</a>,\n",
       " <a href=\"%23ubuntu-ar.txt\">#ubuntu-ar.txt</a>,\n",
       " <a href=\"%23ubuntu-arm.txt\">#ubuntu-arm.txt</a>,\n",
       " <a href=\"%23ubuntu-artwork.txt\">#ubuntu-artwork.txt</a>,\n",
       " <a href=\"%23ubuntu-au.txt\">#ubuntu-au.txt</a>,\n",
       " <a href=\"%23ubuntu-autopilot.txt\">#ubuntu-autopilot.txt</a>,\n",
       " <a href=\"%23ubuntu-bd.txt\">#ubuntu-bd.txt</a>,\n",
       " <a href=\"%23ubuntu-br.txt\">#ubuntu-br.txt</a>,\n",
       " <a href=\"%23ubuntu-budgie.txt\">#ubuntu-budgie.txt</a>,\n",
       " <a href=\"%23ubuntu-bugs.txt\">#ubuntu-bugs.txt</a>,\n",
       " <a href=\"%23ubuntu-ca.txt\">#ubuntu-ca.txt</a>,\n",
       " <a href=\"%23ubuntu-cat.txt\">#ubuntu-cat.txt</a>,\n",
       " <a href=\"%23ubuntu-ch.txt\">#ubuntu-ch.txt</a>,\n",
       " <a href=\"%23ubuntu-ci-eng.txt\">#ubuntu-ci-eng.txt</a>,\n",
       " <a href=\"%23ubuntu-cl.txt\">#ubuntu-cl.txt</a>,\n",
       " <a href=\"%23ubuntu-cm.txt\">#ubuntu-cm.txt</a>,\n",
       " <a href=\"%23ubuntu-cn.txt\">#ubuntu-cn.txt</a>,\n",
       " <a href=\"%23ubuntu-co-meeting.txt\">#ubuntu-co-meeting.txt</a>,\n",
       " <a href=\"%23ubuntu-co.txt\">#ubuntu-co.txt</a>,\n",
       " <a href=\"%23ubuntu-community-team.txt\">#ubuntu-community-team.txt</a>,\n",
       " <a href=\"%23ubuntu-cy.txt\">#ubuntu-cy.txt</a>,\n",
       " <a href=\"%23ubuntu-cz.txt\">#ubuntu-cz.txt</a>,\n",
       " <a href=\"%23ubuntu-de-l10n.txt\">#ubuntu-de-l10n.txt</a>,\n",
       " <a href=\"%23ubuntu-de.txt\">#ubuntu-de.txt</a>,\n",
       " <a href=\"%23ubuntu-design.txt\">#ubuntu-design.txt</a>,\n",
       " <a href=\"%23ubuntu-desktop.txt\">#ubuntu-desktop.txt</a>,\n",
       " <a href=\"%23ubuntu-devel.txt\">#ubuntu-devel.txt</a>,\n",
       " <a href=\"%23ubuntu-discuss.txt\">#ubuntu-discuss.txt</a>,\n",
       " <a href=\"%23ubuntu-dk.txt\">#ubuntu-dk.txt</a>,\n",
       " <a href=\"%23ubuntu-doc.txt\">#ubuntu-doc.txt</a>,\n",
       " <a href=\"%23ubuntu-dz.txt\">#ubuntu-dz.txt</a>,\n",
       " <a href=\"%23ubuntu-eg.txt\">#ubuntu-eg.txt</a>,\n",
       " <a href=\"%23ubuntu-es.txt\">#ubuntu-es.txt</a>,\n",
       " <a href=\"%23ubuntu-fi.txt\">#ubuntu-fi.txt</a>,\n",
       " <a href=\"%23ubuntu-for-all.txt\">#ubuntu-for-all.txt</a>,\n",
       " <a href=\"%23ubuntu-gnome.txt\">#ubuntu-gnome.txt</a>,\n",
       " <a href=\"%23ubuntu-google.txt\">#ubuntu-google.txt</a>,\n",
       " <a href=\"%23ubuntu-gr.txt\">#ubuntu-gr.txt</a>,\n",
       " <a href=\"%23ubuntu-hr.txt\">#ubuntu-hr.txt</a>,\n",
       " <a href=\"%23ubuntu-ie.txt\">#ubuntu-ie.txt</a>,\n",
       " <a href=\"%23ubuntu-in.txt\">#ubuntu-in.txt</a>,\n",
       " <a href=\"%23ubuntu-installer.txt\">#ubuntu-installer.txt</a>,\n",
       " <a href=\"%23ubuntu-ir.txt\">#ubuntu-ir.txt</a>,\n",
       " <a href=\"%23ubuntu-irc.txt\">#ubuntu-irc.txt</a>,\n",
       " <a href=\"%23ubuntu-it-meeting.txt\">#ubuntu-it-meeting.txt</a>,\n",
       " <a href=\"%23ubuntu-it.txt\">#ubuntu-it.txt</a>,\n",
       " <a href=\"%23ubuntu-java.txt\">#ubuntu-java.txt</a>,\n",
       " <a href=\"%23ubuntu-jp.txt\">#ubuntu-jp.txt</a>,\n",
       " <a href=\"%23ubuntu-kernel.txt\">#ubuntu-kernel.txt</a>,\n",
       " <a href=\"%23ubuntu-ko.txt\">#ubuntu-ko.txt</a>,\n",
       " <a href=\"%23ubuntu-locoteams.txt\">#ubuntu-locoteams.txt</a>,\n",
       " <a href=\"%23ubuntu-lt.txt\">#ubuntu-lt.txt</a>,\n",
       " <a href=\"%23ubuntu-manual.txt\">#ubuntu-manual.txt</a>,\n",
       " <a href=\"%23ubuntu-mate.txt\">#ubuntu-mate.txt</a>,\n",
       " <a href=\"%23ubuntu-meeting-2.txt\">#ubuntu-meeting-2.txt</a>,\n",
       " <a href=\"%23ubuntu-meeting.txt\">#ubuntu-meeting.txt</a>,\n",
       " <a href=\"%23ubuntu-mk.txt\">#ubuntu-mk.txt</a>,\n",
       " <a href=\"%23ubuntu-motu.txt\">#ubuntu-motu.txt</a>,\n",
       " <a href=\"%23ubuntu-mozillateam.txt\">#ubuntu-mozillateam.txt</a>,\n",
       " <a href=\"%23ubuntu-my.txt\">#ubuntu-my.txt</a>,\n",
       " <a href=\"%23ubuntu-news.txt\">#ubuntu-news.txt</a>,\n",
       " <a href=\"%23ubuntu-ngo.txt\">#ubuntu-ngo.txt</a>,\n",
       " <a href=\"%23ubuntu-nl-mwanzo.txt\">#ubuntu-nl-mwanzo.txt</a>,\n",
       " <a href=\"%23ubuntu-nl.txt\">#ubuntu-nl.txt</a>,\n",
       " <a href=\"%23ubuntu-no.txt\">#ubuntu-no.txt</a>,\n",
       " <a href=\"%23ubuntu-nz.txt\">#ubuntu-nz.txt</a>,\n",
       " <a href=\"%23ubuntu-on-air.txt\">#ubuntu-on-air.txt</a>,\n",
       " <a href=\"%23ubuntu-ops.txt\">#ubuntu-ops.txt</a>,\n",
       " <a href=\"%23ubuntu-pe.txt\">#ubuntu-pe.txt</a>,\n",
       " <a href=\"%23ubuntu-ph.txt\">#ubuntu-ph.txt</a>,\n",
       " <a href=\"%23ubuntu-pk.txt\">#ubuntu-pk.txt</a>,\n",
       " <a href=\"%23ubuntu-pl.txt\">#ubuntu-pl.txt</a>,\n",
       " <a href=\"%23ubuntu-pt.txt\">#ubuntu-pt.txt</a>,\n",
       " <a href=\"%23ubuntu-qc.txt\">#ubuntu-qc.txt</a>,\n",
       " <a href=\"%23ubuntu-quality.txt\">#ubuntu-quality.txt</a>,\n",
       " <a href=\"%23ubuntu-release.txt\">#ubuntu-release.txt</a>,\n",
       " <a href=\"%23ubuntu-ro.txt\">#ubuntu-ro.txt</a>,\n",
       " <a href=\"%23ubuntu-rs.txt\">#ubuntu-rs.txt</a>,\n",
       " <a href=\"%23ubuntu-ru.txt\">#ubuntu-ru.txt</a>,\n",
       " <a href=\"%23ubuntu-s390x.txt\">#ubuntu-s390x.txt</a>,\n",
       " <a href=\"%23ubuntu-se-mote.txt\">#ubuntu-se-mote.txt</a>,\n",
       " <a href=\"%23ubuntu-se.txt\">#ubuntu-se.txt</a>,\n",
       " <a href=\"%23ubuntu-server.txt\">#ubuntu-server.txt</a>,\n",
       " <a href=\"%23ubuntu-si.txt\">#ubuntu-si.txt</a>,\n",
       " <a href=\"%23ubuntu-tam.txt\">#ubuntu-tam.txt</a>,\n",
       " <a href=\"%23ubuntu-tn-meeting.txt\">#ubuntu-tn-meeting.txt</a>,\n",
       " <a href=\"%23ubuntu-tn.txt\">#ubuntu-tn.txt</a>,\n",
       " <a href=\"%23ubuntu-toolchain.txt\">#ubuntu-toolchain.txt</a>,\n",
       " <a href=\"%23ubuntu-tour.txt\">#ubuntu-tour.txt</a>,\n",
       " <a href=\"%23ubuntu-tr.txt\">#ubuntu-tr.txt</a>,\n",
       " <a href=\"%23ubuntu-translators.txt\">#ubuntu-translators.txt</a>,\n",
       " <a href=\"%23ubuntu-tv.txt\">#ubuntu-tv.txt</a>,\n",
       " <a href=\"%23ubuntu-tw.txt\">#ubuntu-tw.txt</a>,\n",
       " <a href=\"%23ubuntu-uk.txt\">#ubuntu-uk.txt</a>,\n",
       " <a href=\"%23ubuntu-unity.txt\">#ubuntu-unity.txt</a>,\n",
       " <a href=\"%23ubuntu-uos-community.txt\">#ubuntu-uos-community.txt</a>,\n",
       " <a href=\"%23ubuntu-uos-plenary.txt\">#ubuntu-uos-plenary.txt</a>,\n",
       " <a href=\"%23ubuntu-us-ar.txt\">#ubuntu-us-ar.txt</a>,\n",
       " <a href=\"%23ubuntu-us-ca.txt\">#ubuntu-us-ca.txt</a>,\n",
       " <a href=\"%23ubuntu-us-co.txt\">#ubuntu-us-co.txt</a>,\n",
       " <a href=\"%23ubuntu-us-dc.txt\">#ubuntu-us-dc.txt</a>,\n",
       " <a href=\"%23ubuntu-us-de.txt\">#ubuntu-us-de.txt</a>,\n",
       " <a href=\"%23ubuntu-us-fl.txt\">#ubuntu-us-fl.txt</a>,\n",
       " <a href=\"%23ubuntu-us-md.txt\">#ubuntu-us-md.txt</a>,\n",
       " <a href=\"%23ubuntu-us-mi.txt\">#ubuntu-us-mi.txt</a>,\n",
       " <a href=\"%23ubuntu-us-nc.txt\">#ubuntu-us-nc.txt</a>,\n",
       " <a href=\"%23ubuntu-us-oh.txt\">#ubuntu-us-oh.txt</a>,\n",
       " <a href=\"%23ubuntu-us-or.txt\">#ubuntu-us-or.txt</a>,\n",
       " <a href=\"%23ubuntu-us-pa.txt\">#ubuntu-us-pa.txt</a>,\n",
       " <a href=\"%23ubuntu-us-sc.txt\">#ubuntu-us-sc.txt</a>,\n",
       " <a href=\"%23ubuntu-us-tn.txt\">#ubuntu-us-tn.txt</a>,\n",
       " <a href=\"%23ubuntu-us-tx.txt\">#ubuntu-us-tx.txt</a>,\n",
       " <a href=\"%23ubuntu-uy.txt\">#ubuntu-uy.txt</a>,\n",
       " <a href=\"%23ubuntu-vn.txt\">#ubuntu-vn.txt</a>,\n",
       " <a href=\"%23ubuntu-website.txt\">#ubuntu-website.txt</a>,\n",
       " <a href=\"%23ubuntu-women-project.txt\">#ubuntu-women-project.txt</a>,\n",
       " <a href=\"%23ubuntu-x.txt\">#ubuntu-x.txt</a>,\n",
       " <a href=\"%23ubuntu-youth.txt\">#ubuntu-youth.txt</a>,\n",
       " <a href=\"%23ubuntu-za.txt\">#ubuntu-za.txt</a>,\n",
       " <a href=\"%23ubuntu-zh.txt\">#ubuntu-zh.txt</a>,\n",
       " <a href=\"%23ubuntu.txt\">#ubuntu.txt</a>,\n",
       " <a href=\"%23ubuntukylin-devel.txt\">#ubuntukylin-devel.txt</a>,\n",
       " <a href=\"%23ubuntuone.txt\">#ubuntuone.txt</a>,\n",
       " <a href=\"%23ubuntustudio-devel.txt\">#ubuntustudio-devel.txt</a>,\n",
       " <a href=\"%23ubuntustudio.txt\">#ubuntustudio.txt</a>,\n",
       " <a href=\"%23upstart.txt\">#upstart.txt</a>,\n",
       " <a href=\"%23xubuntu-devel.txt\">#xubuntu-devel.txt</a>,\n",
       " <a href=\"%23xubuntu.txt\">#xubuntu.txt</a>]"
      ]
     },
     "execution_count": 18,
     "metadata": {},
     "output_type": "execute_result"
    }
   ],
   "source": [
    "links"
   ]
  },
  {
   "cell_type": "code",
   "execution_count": 19,
   "metadata": {},
   "outputs": [
    {
     "ename": "AttributeError",
     "evalue": "'module' object has no attribute 'request'",
     "output_type": "error",
     "traceback": [
      "\u001b[0;31m---------------------------------------------------------------------------\u001b[0m",
      "\u001b[0;31mAttributeError\u001b[0m                            Traceback (most recent call last)",
      "\u001b[0;32m<ipython-input-19-f74122710e18>\u001b[0m in \u001b[0;36m<module>\u001b[0;34m()\u001b[0m\n\u001b[1;32m      4\u001b[0m     \u001b[0mdest_path\u001b[0m\u001b[0;34m=\u001b[0m\u001b[0;34mr'/Users/soundaryakrishnan/Documents/4-1/SOP_4-1/Scraped_Data2/Test'\u001b[0m\u001b[0;34m\u001b[0m\u001b[0m\n\u001b[1;32m      5\u001b[0m     \u001b[0mdest_path\u001b[0m\u001b[0;34m=\u001b[0m\u001b[0mdest_path\u001b[0m\u001b[0;34m+\u001b[0m\u001b[0mlink2\u001b[0m\u001b[0;34m[\u001b[0m\u001b[0;36m3\u001b[0m\u001b[0;34m:\u001b[0m\u001b[0;34m]\u001b[0m\u001b[0;34m\u001b[0m\u001b[0m\n\u001b[0;32m----> 6\u001b[0;31m     \u001b[0murllib\u001b[0m\u001b[0;34m.\u001b[0m\u001b[0mrequest\u001b[0m\u001b[0;34m.\u001b[0m\u001b[0murlretrieve\u001b[0m\u001b[0;34m(\u001b[0m\u001b[0mdownload_url\u001b[0m\u001b[0;34m,\u001b[0m \u001b[0mdest_path\u001b[0m\u001b[0;34m)\u001b[0m\u001b[0;34m\u001b[0m\u001b[0m\n\u001b[0m",
      "\u001b[0;31mAttributeError\u001b[0m: 'module' object has no attribute 'request'"
     ]
    }
   ],
   "source": [
    "for link in links:\n",
    "    link2=link['href']\n",
    "    download_url=\"https://irclogs.ubuntu.com/2018/01/01/\"+link2\n",
    "    dest_path=r'/Users/soundaryakrishnan/Documents/4-1/SOP_4-1/Scraped_Data2/Test'\n",
    "    dest_path=dest_path+link2[3:]\n",
    "    urllib.request.urlretrieve(download_url, dest_path)"
   ]
  },
  {
   "cell_type": "code",
   "execution_count": 102,
   "metadata": {},
   "outputs": [],
   "source": []
  },
  {
   "cell_type": "code",
   "execution_count": 1,
   "metadata": {},
   "outputs": [],
   "source": [
    "months=['01', '02', '03', '04', '05', '06', '07', '08', '09', '10', '11', '12']"
   ]
  },
  {
   "cell_type": "code",
   "execution_count": 2,
   "metadata": {},
   "outputs": [],
   "source": [
    "def days(month):\n",
    "    if(month=='01'or month=='03' or month=='05' or month=='07' or month=='08'or month=='10' or month=='12'):\n",
    "        return [\"%.2d\" % i for i in range(1, 32, 1)]\n",
    "    elif(month=='04'or month=='06' or month=='09' or month=='11'):\n",
    "        return [\"%.2d\" % i for i in range(1, 31, 1)]\n",
    "    else:\n",
    "        return [\"%.2d\" % i for i in range(1, 29, 1)]"
   ]
  },
  {
   "cell_type": "code",
   "execution_count": 3,
   "metadata": {},
   "outputs": [
    {
     "data": {
      "text/plain": [
       "['01',\n",
       " '02',\n",
       " '03',\n",
       " '04',\n",
       " '05',\n",
       " '06',\n",
       " '07',\n",
       " '08',\n",
       " '09',\n",
       " '10',\n",
       " '11',\n",
       " '12',\n",
       " '13',\n",
       " '14',\n",
       " '15',\n",
       " '16',\n",
       " '17',\n",
       " '18',\n",
       " '19',\n",
       " '20',\n",
       " '21',\n",
       " '22',\n",
       " '23',\n",
       " '24',\n",
       " '25',\n",
       " '26',\n",
       " '27',\n",
       " '28']"
      ]
     },
     "execution_count": 3,
     "metadata": {},
     "output_type": "execute_result"
    }
   ],
   "source": [
    "days('02')"
   ]
  },
  {
   "cell_type": "code",
   "execution_count": 4,
   "metadata": {},
   "outputs": [],
   "source": [
    "# for month in months:\n",
    "#     os.chdir(r\"C:\\Users\\SOUJANARI\\Downloads\\4-1\\SOP_4-1\\Scraped_Data\\2018\")\n",
    "#     os.mkdir(month)\n",
    "#     os.chdir(month)\n",
    "#     for day in days(month):\n",
    "#         os.mkdir(day)"
   ]
  },
  {
   "cell_type": "code",
   "execution_count": 16,
   "metadata": {},
   "outputs": [
    {
     "name": "stdout",
     "output_type": "stream",
     "text": [
      "<Response [200]>\n"
     ]
    },
    {
     "ename": "KeyboardInterrupt",
     "evalue": "",
     "output_type": "error",
     "traceback": [
      "\u001b[0;31m---------------------------------------------------------------------------\u001b[0m",
      "\u001b[0;31mKeyboardInterrupt\u001b[0m                         Traceback (most recent call last)",
      "\u001b[0;32m<ipython-input-16-28c48249d35d>\u001b[0m in \u001b[0;36m<module>\u001b[0;34m()\u001b[0m\n\u001b[1;32m     17\u001b[0m         \u001b[0mdest_path\u001b[0m\u001b[0;34m=\u001b[0m\u001b[0;34m'/Users/soundaryakrishnan/Documents/4-1/SOP_4-1/Scraped_Data2'\u001b[0m\u001b[0;34m+\u001b[0m\u001b[0mmonth\u001b[0m\u001b[0;34m+\u001b[0m \u001b[0;34mr'/'\u001b[0m \u001b[0;34m+\u001b[0m \u001b[0mday\u001b[0m \u001b[0;34m+\u001b[0m \u001b[0;34mr'/'\u001b[0m\u001b[0;34m\u001b[0m\u001b[0m\n\u001b[1;32m     18\u001b[0m         \u001b[0mdest_path\u001b[0m\u001b[0;34m=\u001b[0m\u001b[0mdest_path\u001b[0m\u001b[0;34m+\u001b[0m\u001b[0mlink2\u001b[0m\u001b[0;34m[\u001b[0m\u001b[0;36m3\u001b[0m\u001b[0;34m:\u001b[0m\u001b[0;34m]\u001b[0m\u001b[0;34m\u001b[0m\u001b[0m\n\u001b[0;32m---> 19\u001b[0;31m         \u001b[0murllib\u001b[0m\u001b[0;34m.\u001b[0m\u001b[0murlopen\u001b[0m\u001b[0;34m(\u001b[0m\u001b[0mdownload_url\u001b[0m\u001b[0;34m,\u001b[0m \u001b[0mdest_path\u001b[0m\u001b[0;34m)\u001b[0m\u001b[0;34m\u001b[0m\u001b[0m\n\u001b[0m\u001b[1;32m     20\u001b[0m \u001b[0;32mprint\u001b[0m\u001b[0;34m(\u001b[0m\u001b[0;34m\"done\"\u001b[0m\u001b[0;34m)\u001b[0m\u001b[0;34m\u001b[0m\u001b[0m\n",
      "\u001b[0;32m/Users/soundaryakrishnan/opt/anaconda2/lib/python2.7/urllib.pyc\u001b[0m in \u001b[0;36murlopen\u001b[0;34m(url, data, proxies, context)\u001b[0m\n\u001b[1;32m     87\u001b[0m         \u001b[0;32mreturn\u001b[0m \u001b[0mopener\u001b[0m\u001b[0;34m.\u001b[0m\u001b[0mopen\u001b[0m\u001b[0;34m(\u001b[0m\u001b[0murl\u001b[0m\u001b[0;34m)\u001b[0m\u001b[0;34m\u001b[0m\u001b[0m\n\u001b[1;32m     88\u001b[0m     \u001b[0;32melse\u001b[0m\u001b[0;34m:\u001b[0m\u001b[0;34m\u001b[0m\u001b[0m\n\u001b[0;32m---> 89\u001b[0;31m         \u001b[0;32mreturn\u001b[0m \u001b[0mopener\u001b[0m\u001b[0;34m.\u001b[0m\u001b[0mopen\u001b[0m\u001b[0;34m(\u001b[0m\u001b[0murl\u001b[0m\u001b[0;34m,\u001b[0m \u001b[0mdata\u001b[0m\u001b[0;34m)\u001b[0m\u001b[0;34m\u001b[0m\u001b[0m\n\u001b[0m\u001b[1;32m     90\u001b[0m \u001b[0;32mdef\u001b[0m \u001b[0murlretrieve\u001b[0m\u001b[0;34m(\u001b[0m\u001b[0murl\u001b[0m\u001b[0;34m,\u001b[0m \u001b[0mfilename\u001b[0m\u001b[0;34m=\u001b[0m\u001b[0mNone\u001b[0m\u001b[0;34m,\u001b[0m \u001b[0mreporthook\u001b[0m\u001b[0;34m=\u001b[0m\u001b[0mNone\u001b[0m\u001b[0;34m,\u001b[0m \u001b[0mdata\u001b[0m\u001b[0;34m=\u001b[0m\u001b[0mNone\u001b[0m\u001b[0;34m,\u001b[0m \u001b[0mcontext\u001b[0m\u001b[0;34m=\u001b[0m\u001b[0mNone\u001b[0m\u001b[0;34m)\u001b[0m\u001b[0;34m:\u001b[0m\u001b[0;34m\u001b[0m\u001b[0m\n\u001b[1;32m     91\u001b[0m     \u001b[0;32mglobal\u001b[0m \u001b[0m_urlopener\u001b[0m\u001b[0;34m\u001b[0m\u001b[0m\n",
      "\u001b[0;32m/Users/soundaryakrishnan/opt/anaconda2/lib/python2.7/urllib.pyc\u001b[0m in \u001b[0;36mopen\u001b[0;34m(self, fullurl, data)\u001b[0m\n\u001b[1;32m    215\u001b[0m                 \u001b[0;32mreturn\u001b[0m \u001b[0mgetattr\u001b[0m\u001b[0;34m(\u001b[0m\u001b[0mself\u001b[0m\u001b[0;34m,\u001b[0m \u001b[0mname\u001b[0m\u001b[0;34m)\u001b[0m\u001b[0;34m(\u001b[0m\u001b[0murl\u001b[0m\u001b[0;34m)\u001b[0m\u001b[0;34m\u001b[0m\u001b[0m\n\u001b[1;32m    216\u001b[0m             \u001b[0;32melse\u001b[0m\u001b[0;34m:\u001b[0m\u001b[0;34m\u001b[0m\u001b[0m\n\u001b[0;32m--> 217\u001b[0;31m                 \u001b[0;32mreturn\u001b[0m \u001b[0mgetattr\u001b[0m\u001b[0;34m(\u001b[0m\u001b[0mself\u001b[0m\u001b[0;34m,\u001b[0m \u001b[0mname\u001b[0m\u001b[0;34m)\u001b[0m\u001b[0;34m(\u001b[0m\u001b[0murl\u001b[0m\u001b[0;34m,\u001b[0m \u001b[0mdata\u001b[0m\u001b[0;34m)\u001b[0m\u001b[0;34m\u001b[0m\u001b[0m\n\u001b[0m\u001b[1;32m    218\u001b[0m         \u001b[0;32mexcept\u001b[0m \u001b[0msocket\u001b[0m\u001b[0;34m.\u001b[0m\u001b[0merror\u001b[0m\u001b[0;34m,\u001b[0m \u001b[0mmsg\u001b[0m\u001b[0;34m:\u001b[0m\u001b[0;34m\u001b[0m\u001b[0m\n\u001b[1;32m    219\u001b[0m             \u001b[0;32mraise\u001b[0m \u001b[0mIOError\u001b[0m\u001b[0;34m,\u001b[0m \u001b[0;34m(\u001b[0m\u001b[0;34m'socket error'\u001b[0m\u001b[0;34m,\u001b[0m \u001b[0mmsg\u001b[0m\u001b[0;34m)\u001b[0m\u001b[0;34m,\u001b[0m \u001b[0msys\u001b[0m\u001b[0;34m.\u001b[0m\u001b[0mexc_info\u001b[0m\u001b[0;34m(\u001b[0m\u001b[0;34m)\u001b[0m\u001b[0;34m[\u001b[0m\u001b[0;36m2\u001b[0m\u001b[0;34m]\u001b[0m\u001b[0;34m\u001b[0m\u001b[0m\n",
      "\u001b[0;32m/Users/soundaryakrishnan/opt/anaconda2/lib/python2.7/urllib.pyc\u001b[0m in \u001b[0;36mopen_https\u001b[0;34m(self, url, data)\u001b[0m\n\u001b[1;32m    444\u001b[0m             \u001b[0;32mfor\u001b[0m \u001b[0margs\u001b[0m \u001b[0;32min\u001b[0m \u001b[0mself\u001b[0m\u001b[0;34m.\u001b[0m\u001b[0maddheaders\u001b[0m\u001b[0;34m:\u001b[0m \u001b[0mh\u001b[0m\u001b[0;34m.\u001b[0m\u001b[0mputheader\u001b[0m\u001b[0;34m(\u001b[0m\u001b[0;34m*\u001b[0m\u001b[0margs\u001b[0m\u001b[0;34m)\u001b[0m\u001b[0;34m\u001b[0m\u001b[0m\n\u001b[1;32m    445\u001b[0m             \u001b[0mh\u001b[0m\u001b[0;34m.\u001b[0m\u001b[0mendheaders\u001b[0m\u001b[0;34m(\u001b[0m\u001b[0mdata\u001b[0m\u001b[0;34m)\u001b[0m\u001b[0;34m\u001b[0m\u001b[0m\n\u001b[0;32m--> 446\u001b[0;31m             \u001b[0merrcode\u001b[0m\u001b[0;34m,\u001b[0m \u001b[0merrmsg\u001b[0m\u001b[0;34m,\u001b[0m \u001b[0mheaders\u001b[0m \u001b[0;34m=\u001b[0m \u001b[0mh\u001b[0m\u001b[0;34m.\u001b[0m\u001b[0mgetreply\u001b[0m\u001b[0;34m(\u001b[0m\u001b[0;34m)\u001b[0m\u001b[0;34m\u001b[0m\u001b[0m\n\u001b[0m\u001b[1;32m    447\u001b[0m             \u001b[0mfp\u001b[0m \u001b[0;34m=\u001b[0m \u001b[0mh\u001b[0m\u001b[0;34m.\u001b[0m\u001b[0mgetfile\u001b[0m\u001b[0;34m(\u001b[0m\u001b[0;34m)\u001b[0m\u001b[0;34m\u001b[0m\u001b[0m\n\u001b[1;32m    448\u001b[0m             \u001b[0;32mif\u001b[0m \u001b[0merrcode\u001b[0m \u001b[0;34m==\u001b[0m \u001b[0;34m-\u001b[0m\u001b[0;36m1\u001b[0m\u001b[0;34m:\u001b[0m\u001b[0;34m\u001b[0m\u001b[0m\n",
      "\u001b[0;32m/Users/soundaryakrishnan/opt/anaconda2/lib/python2.7/httplib.pyc\u001b[0m in \u001b[0;36mgetreply\u001b[0;34m(self, buffering)\u001b[0m\n\u001b[1;32m   1211\u001b[0m         \u001b[0;32mtry\u001b[0m\u001b[0;34m:\u001b[0m\u001b[0;34m\u001b[0m\u001b[0m\n\u001b[1;32m   1212\u001b[0m             \u001b[0;32mif\u001b[0m \u001b[0;32mnot\u001b[0m \u001b[0mbuffering\u001b[0m\u001b[0;34m:\u001b[0m\u001b[0;34m\u001b[0m\u001b[0m\n\u001b[0;32m-> 1213\u001b[0;31m                 \u001b[0mresponse\u001b[0m \u001b[0;34m=\u001b[0m \u001b[0mself\u001b[0m\u001b[0;34m.\u001b[0m\u001b[0m_conn\u001b[0m\u001b[0;34m.\u001b[0m\u001b[0mgetresponse\u001b[0m\u001b[0;34m(\u001b[0m\u001b[0;34m)\u001b[0m\u001b[0;34m\u001b[0m\u001b[0m\n\u001b[0m\u001b[1;32m   1214\u001b[0m             \u001b[0;32melse\u001b[0m\u001b[0;34m:\u001b[0m\u001b[0;34m\u001b[0m\u001b[0m\n\u001b[1;32m   1215\u001b[0m                 \u001b[0;31m#only add this keyword if non-default for compatibility\u001b[0m\u001b[0;34m\u001b[0m\u001b[0;34m\u001b[0m\u001b[0m\n",
      "\u001b[0;32m/Users/soundaryakrishnan/opt/anaconda2/lib/python2.7/httplib.pyc\u001b[0m in \u001b[0;36mgetresponse\u001b[0;34m(self, buffering)\u001b[0m\n\u001b[1;32m   1136\u001b[0m \u001b[0;34m\u001b[0m\u001b[0m\n\u001b[1;32m   1137\u001b[0m         \u001b[0;32mtry\u001b[0m\u001b[0;34m:\u001b[0m\u001b[0;34m\u001b[0m\u001b[0m\n\u001b[0;32m-> 1138\u001b[0;31m             \u001b[0mresponse\u001b[0m\u001b[0;34m.\u001b[0m\u001b[0mbegin\u001b[0m\u001b[0;34m(\u001b[0m\u001b[0;34m)\u001b[0m\u001b[0;34m\u001b[0m\u001b[0m\n\u001b[0m\u001b[1;32m   1139\u001b[0m             \u001b[0;32massert\u001b[0m \u001b[0mresponse\u001b[0m\u001b[0;34m.\u001b[0m\u001b[0mwill_close\u001b[0m \u001b[0;34m!=\u001b[0m \u001b[0m_UNKNOWN\u001b[0m\u001b[0;34m\u001b[0m\u001b[0m\n\u001b[1;32m   1140\u001b[0m             \u001b[0mself\u001b[0m\u001b[0;34m.\u001b[0m\u001b[0m__state\u001b[0m \u001b[0;34m=\u001b[0m \u001b[0m_CS_IDLE\u001b[0m\u001b[0;34m\u001b[0m\u001b[0m\n",
      "\u001b[0;32m/Users/soundaryakrishnan/opt/anaconda2/lib/python2.7/httplib.pyc\u001b[0m in \u001b[0;36mbegin\u001b[0;34m(self)\u001b[0m\n\u001b[1;32m    447\u001b[0m         \u001b[0;31m# read until we get a non-100 response\u001b[0m\u001b[0;34m\u001b[0m\u001b[0;34m\u001b[0m\u001b[0m\n\u001b[1;32m    448\u001b[0m         \u001b[0;32mwhile\u001b[0m \u001b[0mTrue\u001b[0m\u001b[0;34m:\u001b[0m\u001b[0;34m\u001b[0m\u001b[0m\n\u001b[0;32m--> 449\u001b[0;31m             \u001b[0mversion\u001b[0m\u001b[0;34m,\u001b[0m \u001b[0mstatus\u001b[0m\u001b[0;34m,\u001b[0m \u001b[0mreason\u001b[0m \u001b[0;34m=\u001b[0m \u001b[0mself\u001b[0m\u001b[0;34m.\u001b[0m\u001b[0m_read_status\u001b[0m\u001b[0;34m(\u001b[0m\u001b[0;34m)\u001b[0m\u001b[0;34m\u001b[0m\u001b[0m\n\u001b[0m\u001b[1;32m    450\u001b[0m             \u001b[0;32mif\u001b[0m \u001b[0mstatus\u001b[0m \u001b[0;34m!=\u001b[0m \u001b[0mCONTINUE\u001b[0m\u001b[0;34m:\u001b[0m\u001b[0;34m\u001b[0m\u001b[0m\n\u001b[1;32m    451\u001b[0m                 \u001b[0;32mbreak\u001b[0m\u001b[0;34m\u001b[0m\u001b[0m\n",
      "\u001b[0;32m/Users/soundaryakrishnan/opt/anaconda2/lib/python2.7/httplib.pyc\u001b[0m in \u001b[0;36m_read_status\u001b[0;34m(self)\u001b[0m\n\u001b[1;32m    403\u001b[0m     \u001b[0;32mdef\u001b[0m \u001b[0m_read_status\u001b[0m\u001b[0;34m(\u001b[0m\u001b[0mself\u001b[0m\u001b[0;34m)\u001b[0m\u001b[0;34m:\u001b[0m\u001b[0;34m\u001b[0m\u001b[0m\n\u001b[1;32m    404\u001b[0m         \u001b[0;31m# Initialize with Simple-Response defaults\u001b[0m\u001b[0;34m\u001b[0m\u001b[0;34m\u001b[0m\u001b[0m\n\u001b[0;32m--> 405\u001b[0;31m         \u001b[0mline\u001b[0m \u001b[0;34m=\u001b[0m \u001b[0mself\u001b[0m\u001b[0;34m.\u001b[0m\u001b[0mfp\u001b[0m\u001b[0;34m.\u001b[0m\u001b[0mreadline\u001b[0m\u001b[0;34m(\u001b[0m\u001b[0m_MAXLINE\u001b[0m \u001b[0;34m+\u001b[0m \u001b[0;36m1\u001b[0m\u001b[0;34m)\u001b[0m\u001b[0;34m\u001b[0m\u001b[0m\n\u001b[0m\u001b[1;32m    406\u001b[0m         \u001b[0;32mif\u001b[0m \u001b[0mlen\u001b[0m\u001b[0;34m(\u001b[0m\u001b[0mline\u001b[0m\u001b[0;34m)\u001b[0m \u001b[0;34m>\u001b[0m \u001b[0m_MAXLINE\u001b[0m\u001b[0;34m:\u001b[0m\u001b[0;34m\u001b[0m\u001b[0m\n\u001b[1;32m    407\u001b[0m             \u001b[0;32mraise\u001b[0m \u001b[0mLineTooLong\u001b[0m\u001b[0;34m(\u001b[0m\u001b[0;34m\"header line\"\u001b[0m\u001b[0;34m)\u001b[0m\u001b[0;34m\u001b[0m\u001b[0m\n",
      "\u001b[0;32m/Users/soundaryakrishnan/opt/anaconda2/lib/python2.7/socket.pyc\u001b[0m in \u001b[0;36mreadline\u001b[0;34m(self, size)\u001b[0m\n\u001b[1;32m    478\u001b[0m             \u001b[0;32mwhile\u001b[0m \u001b[0mTrue\u001b[0m\u001b[0;34m:\u001b[0m\u001b[0;34m\u001b[0m\u001b[0m\n\u001b[1;32m    479\u001b[0m                 \u001b[0;32mtry\u001b[0m\u001b[0;34m:\u001b[0m\u001b[0;34m\u001b[0m\u001b[0m\n\u001b[0;32m--> 480\u001b[0;31m                     \u001b[0mdata\u001b[0m \u001b[0;34m=\u001b[0m \u001b[0mself\u001b[0m\u001b[0;34m.\u001b[0m\u001b[0m_sock\u001b[0m\u001b[0;34m.\u001b[0m\u001b[0mrecv\u001b[0m\u001b[0;34m(\u001b[0m\u001b[0mself\u001b[0m\u001b[0;34m.\u001b[0m\u001b[0m_rbufsize\u001b[0m\u001b[0;34m)\u001b[0m\u001b[0;34m\u001b[0m\u001b[0m\n\u001b[0m\u001b[1;32m    481\u001b[0m                 \u001b[0;32mexcept\u001b[0m \u001b[0merror\u001b[0m\u001b[0;34m,\u001b[0m \u001b[0me\u001b[0m\u001b[0;34m:\u001b[0m\u001b[0;34m\u001b[0m\u001b[0m\n\u001b[1;32m    482\u001b[0m                     \u001b[0;32mif\u001b[0m \u001b[0me\u001b[0m\u001b[0;34m.\u001b[0m\u001b[0margs\u001b[0m\u001b[0;34m[\u001b[0m\u001b[0;36m0\u001b[0m\u001b[0;34m]\u001b[0m \u001b[0;34m==\u001b[0m \u001b[0mEINTR\u001b[0m\u001b[0;34m:\u001b[0m\u001b[0;34m\u001b[0m\u001b[0m\n",
      "\u001b[0;32m/Users/soundaryakrishnan/opt/anaconda2/lib/python2.7/ssl.pyc\u001b[0m in \u001b[0;36mrecv\u001b[0;34m(self, buflen, flags)\u001b[0m\n\u001b[1;32m    752\u001b[0m                     \u001b[0;34m\"non-zero flags not allowed in calls to recv() on %s\"\u001b[0m \u001b[0;34m%\u001b[0m\u001b[0;34m\u001b[0m\u001b[0m\n\u001b[1;32m    753\u001b[0m                     self.__class__)\n\u001b[0;32m--> 754\u001b[0;31m             \u001b[0;32mreturn\u001b[0m \u001b[0mself\u001b[0m\u001b[0;34m.\u001b[0m\u001b[0mread\u001b[0m\u001b[0;34m(\u001b[0m\u001b[0mbuflen\u001b[0m\u001b[0;34m)\u001b[0m\u001b[0;34m\u001b[0m\u001b[0m\n\u001b[0m\u001b[1;32m    755\u001b[0m         \u001b[0;32melse\u001b[0m\u001b[0;34m:\u001b[0m\u001b[0;34m\u001b[0m\u001b[0m\n\u001b[1;32m    756\u001b[0m             \u001b[0;32mreturn\u001b[0m \u001b[0mself\u001b[0m\u001b[0;34m.\u001b[0m\u001b[0m_sock\u001b[0m\u001b[0;34m.\u001b[0m\u001b[0mrecv\u001b[0m\u001b[0;34m(\u001b[0m\u001b[0mbuflen\u001b[0m\u001b[0;34m,\u001b[0m \u001b[0mflags\u001b[0m\u001b[0;34m)\u001b[0m\u001b[0;34m\u001b[0m\u001b[0m\n",
      "\u001b[0;32m/Users/soundaryakrishnan/opt/anaconda2/lib/python2.7/ssl.pyc\u001b[0m in \u001b[0;36mread\u001b[0;34m(self, len, buffer)\u001b[0m\n\u001b[1;32m    639\u001b[0m                 \u001b[0mv\u001b[0m \u001b[0;34m=\u001b[0m \u001b[0mself\u001b[0m\u001b[0;34m.\u001b[0m\u001b[0m_sslobj\u001b[0m\u001b[0;34m.\u001b[0m\u001b[0mread\u001b[0m\u001b[0;34m(\u001b[0m\u001b[0mlen\u001b[0m\u001b[0;34m,\u001b[0m \u001b[0mbuffer\u001b[0m\u001b[0;34m)\u001b[0m\u001b[0;34m\u001b[0m\u001b[0m\n\u001b[1;32m    640\u001b[0m             \u001b[0;32melse\u001b[0m\u001b[0;34m:\u001b[0m\u001b[0;34m\u001b[0m\u001b[0m\n\u001b[0;32m--> 641\u001b[0;31m                 \u001b[0mv\u001b[0m \u001b[0;34m=\u001b[0m \u001b[0mself\u001b[0m\u001b[0;34m.\u001b[0m\u001b[0m_sslobj\u001b[0m\u001b[0;34m.\u001b[0m\u001b[0mread\u001b[0m\u001b[0;34m(\u001b[0m\u001b[0mlen\u001b[0m\u001b[0;34m)\u001b[0m\u001b[0;34m\u001b[0m\u001b[0m\n\u001b[0m\u001b[1;32m    642\u001b[0m             \u001b[0;32mreturn\u001b[0m \u001b[0mv\u001b[0m\u001b[0;34m\u001b[0m\u001b[0m\n\u001b[1;32m    643\u001b[0m         \u001b[0;32mexcept\u001b[0m \u001b[0mSSLError\u001b[0m \u001b[0;32mas\u001b[0m \u001b[0mx\u001b[0m\u001b[0;34m:\u001b[0m\u001b[0;34m\u001b[0m\u001b[0m\n",
      "\u001b[0;31mKeyboardInterrupt\u001b[0m: "
     ]
    }
   ],
   "source": [
    "# for month in months:\n",
    "#     for day in days(month):''\n",
    "import urllib\n",
    "#import urllib.request\n",
    "month='01'\n",
    "day='22'\n",
    "url=r'https://irclogs.ubuntu.com/2018//'+ month+ r'/' + day + r'/'\n",
    "#         print(url)\n",
    "response=requests.get(url)\n",
    "print(response)\n",
    "soup=BeautifulSoup(response.text, \"html.parser\")\n",
    "links=[]\n",
    "for link in soup.findAll('a'):\n",
    "    if('.txt' in link.text):\n",
    "        link2=link['href']\n",
    "        download_url=url+link2\n",
    "        dest_path='/Users/soundaryakrishnan/Documents/4-1/SOP_4-1/Scraped_Data2'+month+ r'/' + day + r'/'\n",
    "        dest_path=dest_path+link2[3:]\n",
    "        urllib.urlopen(download_url, dest_path)\n",
    "print(\"done\")"
   ]
  },
  {
   "cell_type": "code",
   "execution_count": 117,
   "metadata": {},
   "outputs": [
    {
     "name": "stdout",
     "output_type": "stream",
     "text": [
      "https://irclogs.ubuntu.com/2018//12/31/\n"
     ]
    }
   ],
   "source": [
    "url=r'https://irclogs.ubuntu.com/2018//'+ month+ r'/' + day + r'/'\n",
    "print(url)\n"
   ]
  },
  {
   "cell_type": "code",
   "execution_count": 133,
   "metadata": {},
   "outputs": [],
   "source": [
    "os.getcwd()\n",
    "os.chdir(\"2018\")"
   ]
  },
  {
   "cell_type": "code",
   "execution_count": 6,
   "metadata": {},
   "outputs": [
    {
     "data": {
      "text/plain": [
       "'/Users/soundaryakrishnan/Documents/4-1/SOP_4-1'"
      ]
     },
     "execution_count": 6,
     "metadata": {},
     "output_type": "execute_result"
    }
   ],
   "source": [
    "import os\n",
    "os.getcwd()"
   ]
  },
  {
   "cell_type": "code",
   "execution_count": 140,
   "metadata": {},
   "outputs": [],
   "source": []
  },
  {
   "cell_type": "code",
   "execution_count": null,
   "metadata": {},
   "outputs": [],
   "source": []
  }
 ],
 "metadata": {
  "kernelspec": {
   "display_name": "Python 2",
   "language": "python",
   "name": "python2"
  },
  "language_info": {
   "codemirror_mode": {
    "name": "ipython",
    "version": 2
   },
   "file_extension": ".py",
   "mimetype": "text/x-python",
   "name": "python",
   "nbconvert_exporter": "python",
   "pygments_lexer": "ipython2",
   "version": "2.7.16"
  }
 },
 "nbformat": 4,
 "nbformat_minor": 2
}
