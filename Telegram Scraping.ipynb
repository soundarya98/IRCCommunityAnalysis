{
 "cells": [
  {
   "cell_type": "code",
   "execution_count": 25,
   "metadata": {},
   "outputs": [],
   "source": [
    "import requests\n",
    "import urllib.request\n",
    "import time\n",
    "from bs4 import BeautifulSoup"
   ]
  },
  {
   "cell_type": "code",
   "execution_count": 31,
   "metadata": {},
   "outputs": [],
   "source": [
    "import os\n",
    "os.chdir('/Users/soundaryakrishnan/Documents/Telegram Desktop/Group')\n",
    "file = open(\"messages.html\", \"r\")\n",
    "content=file.read().splitlines()"
   ]
  },
  {
   "cell_type": "code",
   "execution_count": 43,
   "metadata": {},
   "outputs": [
    {
     "name": "stdout",
     "output_type": "stream",
     "text": [
      "Telegram Test \n",
      "10 January 2020\n",
      "Rishab Khincha created group &laquo;Telegram Test&raquo; with members Rishab Khincha and Soundarya Krishnan\n",
      "RK\n",
      "12:19\n",
      "Rishab Khincha\n",
      "Hi\n",
      "12:20\n",
      "Send a message\n",
      "SK\n",
      "12:20\n",
      "Soundarya Krishnan\n",
      "hi\n",
      "RK\n",
      "12:20\n",
      "Rishab Khincha\n",
      "Reply to this message\n",
      "SK\n",
      "12:20\n",
      "Soundarya Krishnan\n",
      "In reply to <a href=\"#go_to_message73114\" onclick=\"return GoToMessage(73114)\">this message</a>\n",
      "hello\n",
      "12:20\n",
      "now export?\n",
      "RK\n",
      "12:20\n",
      "Rishab Khincha\n",
      "Okay now export this chat and see how the HTML data is\n"
     ]
    }
   ],
   "source": [
    "for line in content:\n",
    "    if(len(line)>0):\n",
    "        if line[0]!='<' and line[0]!=' ':\n",
    "            print(line)"
   ]
  },
  {
   "cell_type": "code",
   "execution_count": null,
   "metadata": {},
   "outputs": [],
   "source": []
  }
 ],
 "metadata": {
  "kernelspec": {
   "display_name": "Python 3",
   "language": "python",
   "name": "python3"
  },
  "language_info": {
   "codemirror_mode": {
    "name": "ipython",
    "version": 3
   },
   "file_extension": ".py",
   "mimetype": "text/x-python",
   "name": "python",
   "nbconvert_exporter": "python",
   "pygments_lexer": "ipython3",
   "version": "3.7.3"
  }
 },
 "nbformat": 4,
 "nbformat_minor": 2
}
