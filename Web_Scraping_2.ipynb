{
 "cells": [
  {
   "cell_type": "code",
   "execution_count": 3,
   "metadata": {},
   "outputs": [],
   "source": [
    "import urllib\n",
    "import time\n",
    "import bs4\n",
    "from bs4 import BeautifulSoup"
   ]
  },
  {
   "cell_type": "code",
   "execution_count": 4,
   "metadata": {},
   "outputs": [],
   "source": [
    "months=['01', '02', '03', '04', '05', '06', '07', '08', '09', '10', '11', '12']"
   ]
  },
  {
   "cell_type": "code",
   "execution_count": 5,
   "metadata": {},
   "outputs": [],
   "source": [
    "def days(month):\n",
    "    if(month=='01'or month=='03' or month=='05' or month=='07' or month=='08'or month=='10' or month=='12'):\n",
    "        return [\"%.2d\" % i for i in range(1, 32, 1)]\n",
    "    elif(month=='04'or month=='06' or month=='09' or month=='11'):\n",
    "        return [\"%.2d\" % i for i in range(1, 31, 1)]\n",
    "    else:\n",
    "        return [\"%.2d\" % i for i in range(1, 29, 1)]"
   ]
  },
  {
   "cell_type": "code",
   "execution_count": null,
   "metadata": {},
   "outputs": [
    {
     "name": "stdout",
     "output_type": "stream",
     "text": [
      "<Response [200]>\n",
      "03 01\n",
      "<Response [200]>\n",
      "03 02\n",
      "<Response [200]>\n",
      "03 03\n",
      "<Response [200]>\n",
      "03 04\n",
      "<Response [200]>\n",
      "03 05\n",
      "<Response [200]>\n",
      "03 06\n",
      "<Response [200]>\n",
      "03 07\n",
      "<Response [200]>\n",
      "03 08\n",
      "<Response [200]>\n",
      "03 09\n",
      "<Response [200]>\n",
      "03 10\n",
      "<Response [200]>\n",
      "03 11\n",
      "<Response [200]>\n",
      "03 12\n",
      "<Response [200]>\n",
      "03 13\n",
      "<Response [200]>\n",
      "03 14\n",
      "<Response [200]>\n",
      "03 15\n",
      "<Response [200]>\n"
     ]
    }
   ],
   "source": [
    "# import urllib\n",
    "import requests\n",
    "month='03'\n",
    "for day in days(month):\n",
    "    # day='25'\n",
    "#     if day not in ['01', '02', '03', '04', '05', '06', '07', '08', '09', '10', '11', '12', '13', '14', '15' ]:\n",
    "        url=r'https://irclogs.ubuntu.com/2018//'+ month+ r'/' + day + r'/'\n",
    "        #         print(url)\n",
    "        response=requests.get(url)\n",
    "        print(response)\n",
    "        soup=BeautifulSoup(response.text, \"html.parser\")\n",
    "        links=[]\n",
    "        for link in soup.findAll('a'):\n",
    "            if('.txt' in link.text):\n",
    "                link2=link['href']\n",
    "                download_url=url+link2\n",
    "                dest_path=r'/Users/soundaryakrishnan/Documents/4-1/SOP_4-1/Scraped_Data'+ r'/'+'2018'+r'/'+month+ r'/' + day + r'/'\n",
    "                dest_path=dest_path+link2[3:]\n",
    "                urllib.request.urlretrieve(download_url, dest_path)\n",
    "        print(month, day)"
   ]
  },
  {
   "cell_type": "code",
   "execution_count": 16,
   "metadata": {},
   "outputs": [],
   "source": []
  },
  {
   "cell_type": "code",
   "execution_count": null,
   "metadata": {},
   "outputs": [],
   "source": []
  }
 ],
 "metadata": {
  "kernelspec": {
   "display_name": "Python 3",
   "language": "python",
   "name": "python3"
  },
  "language_info": {
   "codemirror_mode": {
    "name": "ipython",
    "version": 3
   },
   "file_extension": ".py",
   "mimetype": "text/x-python",
   "name": "python",
   "nbconvert_exporter": "python",
   "pygments_lexer": "ipython3",
   "version": "3.7.3"
  }
 },
 "nbformat": 4,
 "nbformat_minor": 2
}
